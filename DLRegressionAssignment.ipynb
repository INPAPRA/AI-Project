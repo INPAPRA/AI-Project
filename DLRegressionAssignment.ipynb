{
  "nbformat": 4,
  "nbformat_minor": 0,
  "metadata": {
    "colab": {
      "name": "DLRegressionAssignment.ipynb",
      "provenance": [],
      "collapsed_sections": []
    },
    "kernelspec": {
      "name": "python3",
      "display_name": "Python 3"
    }
  },
  "cells": [
    {
      "cell_type": "markdown",
      "metadata": {
        "id": "TPRpBcpiGCDy",
        "colab_type": "text"
      },
      "source": [
        "Regression Model"
      ]
    },
    {
      "cell_type": "markdown",
      "metadata": {
        "id": "nF6UvzInGKts",
        "colab_type": "text"
      },
      "source": [
        "Importing necessary libraries\n"
      ]
    },
    {
      "cell_type": "code",
      "metadata": {
        "id": "tAqWX5L1GPUo",
        "colab_type": "code",
        "colab": {}
      },
      "source": [
        "import pandas as pd\n",
        "import numpy as np"
      ],
      "execution_count": 0,
      "outputs": []
    },
    {
      "cell_type": "markdown",
      "metadata": {
        "id": "wnRws_cRGdEB",
        "colab_type": "text"
      },
      "source": [
        "Downloading the dataset"
      ]
    },
    {
      "cell_type": "code",
      "metadata": {
        "id": "8LDAvcckGhMj",
        "colab_type": "code",
        "colab": {
          "base_uri": "https://localhost:8080/",
          "height": 202
        },
        "outputId": "82fa464b-4770-406d-d718-f2953fe96c44"
      },
      "source": [
        "concrete_data = pd.read_csv('https://s3-api.us-geo.objectstorage.softlayer.net/cf-courses-data/CognitiveClass/DL0101EN/labs/data/concrete_data.csv')\n",
        "concrete_data.head()"
      ],
      "execution_count": 3,
      "outputs": [
        {
          "output_type": "execute_result",
          "data": {
            "text/html": [
              "<div>\n",
              "<style scoped>\n",
              "    .dataframe tbody tr th:only-of-type {\n",
              "        vertical-align: middle;\n",
              "    }\n",
              "\n",
              "    .dataframe tbody tr th {\n",
              "        vertical-align: top;\n",
              "    }\n",
              "\n",
              "    .dataframe thead th {\n",
              "        text-align: right;\n",
              "    }\n",
              "</style>\n",
              "<table border=\"1\" class=\"dataframe\">\n",
              "  <thead>\n",
              "    <tr style=\"text-align: right;\">\n",
              "      <th></th>\n",
              "      <th>Cement</th>\n",
              "      <th>Blast Furnace Slag</th>\n",
              "      <th>Fly Ash</th>\n",
              "      <th>Water</th>\n",
              "      <th>Superplasticizer</th>\n",
              "      <th>Coarse Aggregate</th>\n",
              "      <th>Fine Aggregate</th>\n",
              "      <th>Age</th>\n",
              "      <th>Strength</th>\n",
              "    </tr>\n",
              "  </thead>\n",
              "  <tbody>\n",
              "    <tr>\n",
              "      <th>0</th>\n",
              "      <td>540.0</td>\n",
              "      <td>0.0</td>\n",
              "      <td>0.0</td>\n",
              "      <td>162.0</td>\n",
              "      <td>2.5</td>\n",
              "      <td>1040.0</td>\n",
              "      <td>676.0</td>\n",
              "      <td>28</td>\n",
              "      <td>79.99</td>\n",
              "    </tr>\n",
              "    <tr>\n",
              "      <th>1</th>\n",
              "      <td>540.0</td>\n",
              "      <td>0.0</td>\n",
              "      <td>0.0</td>\n",
              "      <td>162.0</td>\n",
              "      <td>2.5</td>\n",
              "      <td>1055.0</td>\n",
              "      <td>676.0</td>\n",
              "      <td>28</td>\n",
              "      <td>61.89</td>\n",
              "    </tr>\n",
              "    <tr>\n",
              "      <th>2</th>\n",
              "      <td>332.5</td>\n",
              "      <td>142.5</td>\n",
              "      <td>0.0</td>\n",
              "      <td>228.0</td>\n",
              "      <td>0.0</td>\n",
              "      <td>932.0</td>\n",
              "      <td>594.0</td>\n",
              "      <td>270</td>\n",
              "      <td>40.27</td>\n",
              "    </tr>\n",
              "    <tr>\n",
              "      <th>3</th>\n",
              "      <td>332.5</td>\n",
              "      <td>142.5</td>\n",
              "      <td>0.0</td>\n",
              "      <td>228.0</td>\n",
              "      <td>0.0</td>\n",
              "      <td>932.0</td>\n",
              "      <td>594.0</td>\n",
              "      <td>365</td>\n",
              "      <td>41.05</td>\n",
              "    </tr>\n",
              "    <tr>\n",
              "      <th>4</th>\n",
              "      <td>198.6</td>\n",
              "      <td>132.4</td>\n",
              "      <td>0.0</td>\n",
              "      <td>192.0</td>\n",
              "      <td>0.0</td>\n",
              "      <td>978.4</td>\n",
              "      <td>825.5</td>\n",
              "      <td>360</td>\n",
              "      <td>44.30</td>\n",
              "    </tr>\n",
              "  </tbody>\n",
              "</table>\n",
              "</div>"
            ],
            "text/plain": [
              "   Cement  Blast Furnace Slag  Fly Ash  ...  Fine Aggregate  Age  Strength\n",
              "0   540.0                 0.0      0.0  ...           676.0   28     79.99\n",
              "1   540.0                 0.0      0.0  ...           676.0   28     61.89\n",
              "2   332.5               142.5      0.0  ...           594.0  270     40.27\n",
              "3   332.5               142.5      0.0  ...           594.0  365     41.05\n",
              "4   198.6               132.4      0.0  ...           825.5  360     44.30\n",
              "\n",
              "[5 rows x 9 columns]"
            ]
          },
          "metadata": {
            "tags": []
          },
          "execution_count": 3
        }
      ]
    },
    {
      "cell_type": "markdown",
      "metadata": {
        "id": "zdX9NhBvHO01",
        "colab_type": "text"
      },
      "source": [
        "Checking the data points"
      ]
    },
    {
      "cell_type": "code",
      "metadata": {
        "id": "iJwyaJibHR06",
        "colab_type": "code",
        "colab": {
          "base_uri": "https://localhost:8080/",
          "height": 35
        },
        "outputId": "f22c47df-6742-4887-95a1-b1256962ca78"
      },
      "source": [
        "concrete_data.shape"
      ],
      "execution_count": 4,
      "outputs": [
        {
          "output_type": "execute_result",
          "data": {
            "text/plain": [
              "(1030, 9)"
            ]
          },
          "metadata": {
            "tags": []
          },
          "execution_count": 4
        }
      ]
    },
    {
      "cell_type": "code",
      "metadata": {
        "id": "hMIyiRTuHaYe",
        "colab_type": "code",
        "colab": {
          "base_uri": "https://localhost:8080/",
          "height": 294
        },
        "outputId": "c4d67e6a-67dd-4743-fccd-d44bdce29234"
      },
      "source": [
        "concrete_data.describe()"
      ],
      "execution_count": 5,
      "outputs": [
        {
          "output_type": "execute_result",
          "data": {
            "text/html": [
              "<div>\n",
              "<style scoped>\n",
              "    .dataframe tbody tr th:only-of-type {\n",
              "        vertical-align: middle;\n",
              "    }\n",
              "\n",
              "    .dataframe tbody tr th {\n",
              "        vertical-align: top;\n",
              "    }\n",
              "\n",
              "    .dataframe thead th {\n",
              "        text-align: right;\n",
              "    }\n",
              "</style>\n",
              "<table border=\"1\" class=\"dataframe\">\n",
              "  <thead>\n",
              "    <tr style=\"text-align: right;\">\n",
              "      <th></th>\n",
              "      <th>Cement</th>\n",
              "      <th>Blast Furnace Slag</th>\n",
              "      <th>Fly Ash</th>\n",
              "      <th>Water</th>\n",
              "      <th>Superplasticizer</th>\n",
              "      <th>Coarse Aggregate</th>\n",
              "      <th>Fine Aggregate</th>\n",
              "      <th>Age</th>\n",
              "      <th>Strength</th>\n",
              "    </tr>\n",
              "  </thead>\n",
              "  <tbody>\n",
              "    <tr>\n",
              "      <th>count</th>\n",
              "      <td>1030.000000</td>\n",
              "      <td>1030.000000</td>\n",
              "      <td>1030.000000</td>\n",
              "      <td>1030.000000</td>\n",
              "      <td>1030.000000</td>\n",
              "      <td>1030.000000</td>\n",
              "      <td>1030.000000</td>\n",
              "      <td>1030.000000</td>\n",
              "      <td>1030.000000</td>\n",
              "    </tr>\n",
              "    <tr>\n",
              "      <th>mean</th>\n",
              "      <td>281.167864</td>\n",
              "      <td>73.895825</td>\n",
              "      <td>54.188350</td>\n",
              "      <td>181.567282</td>\n",
              "      <td>6.204660</td>\n",
              "      <td>972.918932</td>\n",
              "      <td>773.580485</td>\n",
              "      <td>45.662136</td>\n",
              "      <td>35.817961</td>\n",
              "    </tr>\n",
              "    <tr>\n",
              "      <th>std</th>\n",
              "      <td>104.506364</td>\n",
              "      <td>86.279342</td>\n",
              "      <td>63.997004</td>\n",
              "      <td>21.354219</td>\n",
              "      <td>5.973841</td>\n",
              "      <td>77.753954</td>\n",
              "      <td>80.175980</td>\n",
              "      <td>63.169912</td>\n",
              "      <td>16.705742</td>\n",
              "    </tr>\n",
              "    <tr>\n",
              "      <th>min</th>\n",
              "      <td>102.000000</td>\n",
              "      <td>0.000000</td>\n",
              "      <td>0.000000</td>\n",
              "      <td>121.800000</td>\n",
              "      <td>0.000000</td>\n",
              "      <td>801.000000</td>\n",
              "      <td>594.000000</td>\n",
              "      <td>1.000000</td>\n",
              "      <td>2.330000</td>\n",
              "    </tr>\n",
              "    <tr>\n",
              "      <th>25%</th>\n",
              "      <td>192.375000</td>\n",
              "      <td>0.000000</td>\n",
              "      <td>0.000000</td>\n",
              "      <td>164.900000</td>\n",
              "      <td>0.000000</td>\n",
              "      <td>932.000000</td>\n",
              "      <td>730.950000</td>\n",
              "      <td>7.000000</td>\n",
              "      <td>23.710000</td>\n",
              "    </tr>\n",
              "    <tr>\n",
              "      <th>50%</th>\n",
              "      <td>272.900000</td>\n",
              "      <td>22.000000</td>\n",
              "      <td>0.000000</td>\n",
              "      <td>185.000000</td>\n",
              "      <td>6.400000</td>\n",
              "      <td>968.000000</td>\n",
              "      <td>779.500000</td>\n",
              "      <td>28.000000</td>\n",
              "      <td>34.445000</td>\n",
              "    </tr>\n",
              "    <tr>\n",
              "      <th>75%</th>\n",
              "      <td>350.000000</td>\n",
              "      <td>142.950000</td>\n",
              "      <td>118.300000</td>\n",
              "      <td>192.000000</td>\n",
              "      <td>10.200000</td>\n",
              "      <td>1029.400000</td>\n",
              "      <td>824.000000</td>\n",
              "      <td>56.000000</td>\n",
              "      <td>46.135000</td>\n",
              "    </tr>\n",
              "    <tr>\n",
              "      <th>max</th>\n",
              "      <td>540.000000</td>\n",
              "      <td>359.400000</td>\n",
              "      <td>200.100000</td>\n",
              "      <td>247.000000</td>\n",
              "      <td>32.200000</td>\n",
              "      <td>1145.000000</td>\n",
              "      <td>992.600000</td>\n",
              "      <td>365.000000</td>\n",
              "      <td>82.600000</td>\n",
              "    </tr>\n",
              "  </tbody>\n",
              "</table>\n",
              "</div>"
            ],
            "text/plain": [
              "            Cement  Blast Furnace Slag  ...          Age     Strength\n",
              "count  1030.000000         1030.000000  ...  1030.000000  1030.000000\n",
              "mean    281.167864           73.895825  ...    45.662136    35.817961\n",
              "std     104.506364           86.279342  ...    63.169912    16.705742\n",
              "min     102.000000            0.000000  ...     1.000000     2.330000\n",
              "25%     192.375000            0.000000  ...     7.000000    23.710000\n",
              "50%     272.900000           22.000000  ...    28.000000    34.445000\n",
              "75%     350.000000          142.950000  ...    56.000000    46.135000\n",
              "max     540.000000          359.400000  ...   365.000000    82.600000\n",
              "\n",
              "[8 rows x 9 columns]"
            ]
          },
          "metadata": {
            "tags": []
          },
          "execution_count": 5
        }
      ]
    },
    {
      "cell_type": "markdown",
      "metadata": {
        "id": "Viqka09UHmdu",
        "colab_type": "text"
      },
      "source": [
        "Checking if there is any missing value"
      ]
    },
    {
      "cell_type": "code",
      "metadata": {
        "id": "W9QVcxWXHpig",
        "colab_type": "code",
        "colab": {
          "base_uri": "https://localhost:8080/",
          "height": 191
        },
        "outputId": "1910e66a-9007-44ec-c926-f9b283283e28"
      },
      "source": [
        "concrete_data.isnull().sum()"
      ],
      "execution_count": 6,
      "outputs": [
        {
          "output_type": "execute_result",
          "data": {
            "text/plain": [
              "Cement                0\n",
              "Blast Furnace Slag    0\n",
              "Fly Ash               0\n",
              "Water                 0\n",
              "Superplasticizer      0\n",
              "Coarse Aggregate      0\n",
              "Fine Aggregate        0\n",
              "Age                   0\n",
              "Strength              0\n",
              "dtype: int64"
            ]
          },
          "metadata": {
            "tags": []
          },
          "execution_count": 6
        }
      ]
    },
    {
      "cell_type": "markdown",
      "metadata": {
        "id": "_LdqyY_3IL1p",
        "colab_type": "text"
      },
      "source": [
        "Splitting the data into predict and target"
      ]
    },
    {
      "cell_type": "markdown",
      "metadata": {
        "id": "7U_6xzWAIU72",
        "colab_type": "text"
      },
      "source": [
        "The target variable in this problem is the concrete sample strength. Therefore, our predictors will be all the other columns."
      ]
    },
    {
      "cell_type": "code",
      "metadata": {
        "id": "O_IvJybAIWi5",
        "colab_type": "code",
        "colab": {}
      },
      "source": [
        "concrete_data_columns = concrete_data.columns\n",
        "\n",
        "predictors = concrete_data[concrete_data_columns[concrete_data_columns != 'Strength']] # all columns except Strength\n",
        "target = concrete_data['Strength'] # Strength column"
      ],
      "execution_count": 0,
      "outputs": []
    },
    {
      "cell_type": "code",
      "metadata": {
        "id": "Z1a-BMOnIPXm",
        "colab_type": "code",
        "colab": {
          "base_uri": "https://localhost:8080/",
          "height": 202
        },
        "outputId": "e9e4ddea-2f71-4ae8-cc5b-ca2f4f437c40"
      },
      "source": [
        "predictors.head()"
      ],
      "execution_count": 8,
      "outputs": [
        {
          "output_type": "execute_result",
          "data": {
            "text/html": [
              "<div>\n",
              "<style scoped>\n",
              "    .dataframe tbody tr th:only-of-type {\n",
              "        vertical-align: middle;\n",
              "    }\n",
              "\n",
              "    .dataframe tbody tr th {\n",
              "        vertical-align: top;\n",
              "    }\n",
              "\n",
              "    .dataframe thead th {\n",
              "        text-align: right;\n",
              "    }\n",
              "</style>\n",
              "<table border=\"1\" class=\"dataframe\">\n",
              "  <thead>\n",
              "    <tr style=\"text-align: right;\">\n",
              "      <th></th>\n",
              "      <th>Cement</th>\n",
              "      <th>Blast Furnace Slag</th>\n",
              "      <th>Fly Ash</th>\n",
              "      <th>Water</th>\n",
              "      <th>Superplasticizer</th>\n",
              "      <th>Coarse Aggregate</th>\n",
              "      <th>Fine Aggregate</th>\n",
              "      <th>Age</th>\n",
              "    </tr>\n",
              "  </thead>\n",
              "  <tbody>\n",
              "    <tr>\n",
              "      <th>0</th>\n",
              "      <td>540.0</td>\n",
              "      <td>0.0</td>\n",
              "      <td>0.0</td>\n",
              "      <td>162.0</td>\n",
              "      <td>2.5</td>\n",
              "      <td>1040.0</td>\n",
              "      <td>676.0</td>\n",
              "      <td>28</td>\n",
              "    </tr>\n",
              "    <tr>\n",
              "      <th>1</th>\n",
              "      <td>540.0</td>\n",
              "      <td>0.0</td>\n",
              "      <td>0.0</td>\n",
              "      <td>162.0</td>\n",
              "      <td>2.5</td>\n",
              "      <td>1055.0</td>\n",
              "      <td>676.0</td>\n",
              "      <td>28</td>\n",
              "    </tr>\n",
              "    <tr>\n",
              "      <th>2</th>\n",
              "      <td>332.5</td>\n",
              "      <td>142.5</td>\n",
              "      <td>0.0</td>\n",
              "      <td>228.0</td>\n",
              "      <td>0.0</td>\n",
              "      <td>932.0</td>\n",
              "      <td>594.0</td>\n",
              "      <td>270</td>\n",
              "    </tr>\n",
              "    <tr>\n",
              "      <th>3</th>\n",
              "      <td>332.5</td>\n",
              "      <td>142.5</td>\n",
              "      <td>0.0</td>\n",
              "      <td>228.0</td>\n",
              "      <td>0.0</td>\n",
              "      <td>932.0</td>\n",
              "      <td>594.0</td>\n",
              "      <td>365</td>\n",
              "    </tr>\n",
              "    <tr>\n",
              "      <th>4</th>\n",
              "      <td>198.6</td>\n",
              "      <td>132.4</td>\n",
              "      <td>0.0</td>\n",
              "      <td>192.0</td>\n",
              "      <td>0.0</td>\n",
              "      <td>978.4</td>\n",
              "      <td>825.5</td>\n",
              "      <td>360</td>\n",
              "    </tr>\n",
              "  </tbody>\n",
              "</table>\n",
              "</div>"
            ],
            "text/plain": [
              "   Cement  Blast Furnace Slag  Fly Ash  ...  Coarse Aggregate  Fine Aggregate  Age\n",
              "0   540.0                 0.0      0.0  ...            1040.0           676.0   28\n",
              "1   540.0                 0.0      0.0  ...            1055.0           676.0   28\n",
              "2   332.5               142.5      0.0  ...             932.0           594.0  270\n",
              "3   332.5               142.5      0.0  ...             932.0           594.0  365\n",
              "4   198.6               132.4      0.0  ...             978.4           825.5  360\n",
              "\n",
              "[5 rows x 8 columns]"
            ]
          },
          "metadata": {
            "tags": []
          },
          "execution_count": 8
        }
      ]
    },
    {
      "cell_type": "code",
      "metadata": {
        "id": "G3jIhlKDIgCt",
        "colab_type": "code",
        "colab": {
          "base_uri": "https://localhost:8080/",
          "height": 121
        },
        "outputId": "2bb5b806-00e9-4541-faca-7f20dcb46503"
      },
      "source": [
        "target.head()"
      ],
      "execution_count": 9,
      "outputs": [
        {
          "output_type": "execute_result",
          "data": {
            "text/plain": [
              "0    79.99\n",
              "1    61.89\n",
              "2    40.27\n",
              "3    41.05\n",
              "4    44.30\n",
              "Name: Strength, dtype: float64"
            ]
          },
          "metadata": {
            "tags": []
          },
          "execution_count": 9
        }
      ]
    },
    {
      "cell_type": "code",
      "metadata": {
        "id": "A9Uc6kZnLNpC",
        "colab_type": "code",
        "colab": {}
      },
      "source": [
        "n_cols = predictors.shape[1] # number of predictors"
      ],
      "execution_count": 0,
      "outputs": []
    },
    {
      "cell_type": "markdown",
      "metadata": {
        "id": "xPYuzG27JU40",
        "colab_type": "text"
      },
      "source": [
        "Importing Keras library"
      ]
    },
    {
      "cell_type": "code",
      "metadata": {
        "id": "xN6IkD6pJYFu",
        "colab_type": "code",
        "colab": {}
      },
      "source": [
        "import keras"
      ],
      "execution_count": 0,
      "outputs": []
    },
    {
      "cell_type": "markdown",
      "metadata": {
        "id": "tAjjorMZJil0",
        "colab_type": "text"
      },
      "source": [
        "Let's import the rest of the packages from the Keras library that we will need to build our regressoin model."
      ]
    },
    {
      "cell_type": "code",
      "metadata": {
        "id": "SLeVfZJNJjtm",
        "colab_type": "code",
        "colab": {}
      },
      "source": [
        "from keras.models import Sequential\n",
        "from keras.layers import Dense"
      ],
      "execution_count": 0,
      "outputs": []
    },
    {
      "cell_type": "markdown",
      "metadata": {
        "id": "ts1AyeWEJs7k",
        "colab_type": "text"
      },
      "source": [
        "Building a neural network with 1 hidden layer and 10 nodes"
      ]
    },
    {
      "cell_type": "code",
      "metadata": {
        "id": "fCFJqR13Jw-U",
        "colab_type": "code",
        "colab": {}
      },
      "source": [
        "# define regression model\n",
        "def regression_model():\n",
        "    # create model\n",
        "    model = Sequential()\n",
        "    model.add(Dense(10, activation='relu', input_shape=(n_cols,)))\n",
        "    model.add(Dense(1))\n",
        "    \n",
        "    # compile model\n",
        "    model.compile(optimizer='adam', loss='mean_squared_error')\n",
        "    return model"
      ],
      "execution_count": 0,
      "outputs": []
    },
    {
      "cell_type": "markdown",
      "metadata": {
        "id": "AUA4_Z2jKhX4",
        "colab_type": "text"
      },
      "source": [
        "Train and Test the Network"
      ]
    },
    {
      "cell_type": "code",
      "metadata": {
        "id": "-z1rKzm8TwdI",
        "colab_type": "code",
        "colab": {}
      },
      "source": [
        "from sklearn.model_selection import train_test_split"
      ],
      "execution_count": 0,
      "outputs": []
    },
    {
      "cell_type": "code",
      "metadata": {
        "id": "SMHCJ6-xT3Sn",
        "colab_type": "code",
        "colab": {}
      },
      "source": [
        "X_train, X_test, y_train, y_test = train_test_split(predictors, target, test_size=0.3, random_state=50)"
      ],
      "execution_count": 0,
      "outputs": []
    },
    {
      "cell_type": "code",
      "metadata": {
        "id": "62A61uMQKkE-",
        "colab_type": "code",
        "colab": {}
      },
      "source": [
        "# build the model\n",
        "model = regression_model()"
      ],
      "execution_count": 0,
      "outputs": []
    },
    {
      "cell_type": "markdown",
      "metadata": {
        "id": "0C23mUTdLvfQ",
        "colab_type": "text"
      },
      "source": [
        "We will train and test the model at the same time using the fit method. We will leave out 30% of the data for validation and we will train the model for 50 epochs."
      ]
    },
    {
      "cell_type": "code",
      "metadata": {
        "id": "59Y2mFh-L33N",
        "colab_type": "code",
        "colab": {
          "base_uri": "https://localhost:8080/",
          "height": 1000
        },
        "outputId": "65c5d667-5675-4935-d0f6-d537bc535ee3"
      },
      "source": [
        "# fit the model\n",
        "model.fit(X_train, y_train, epochs=50, verbose=2)"
      ],
      "execution_count": 37,
      "outputs": [
        {
          "output_type": "stream",
          "text": [
            "Epoch 1/50\n",
            " - 0s - loss: 87.1800\n",
            "Epoch 2/50\n",
            " - 0s - loss: 89.6786\n",
            "Epoch 3/50\n",
            " - 0s - loss: 88.3034\n",
            "Epoch 4/50\n",
            " - 0s - loss: 88.3481\n",
            "Epoch 5/50\n",
            " - 0s - loss: 87.0552\n",
            "Epoch 6/50\n",
            " - 0s - loss: 86.8723\n",
            "Epoch 7/50\n",
            " - 0s - loss: 86.6308\n",
            "Epoch 8/50\n",
            " - 0s - loss: 90.2735\n",
            "Epoch 9/50\n",
            " - 0s - loss: 86.0909\n",
            "Epoch 10/50\n",
            " - 0s - loss: 87.8368\n",
            "Epoch 11/50\n",
            " - 0s - loss: 85.2250\n",
            "Epoch 12/50\n",
            " - 0s - loss: 84.9759\n",
            "Epoch 13/50\n",
            " - 0s - loss: 86.2335\n",
            "Epoch 14/50\n",
            " - 0s - loss: 85.1274\n",
            "Epoch 15/50\n",
            " - 0s - loss: 85.7146\n",
            "Epoch 16/50\n",
            " - 0s - loss: 85.0060\n",
            "Epoch 17/50\n",
            " - 0s - loss: 83.5413\n",
            "Epoch 18/50\n",
            " - 0s - loss: 85.0264\n",
            "Epoch 19/50\n",
            " - 0s - loss: 82.6011\n",
            "Epoch 20/50\n",
            " - 0s - loss: 91.2974\n",
            "Epoch 21/50\n",
            " - 0s - loss: 82.7582\n",
            "Epoch 22/50\n",
            " - 0s - loss: 83.6161\n",
            "Epoch 23/50\n",
            " - 0s - loss: 86.7548\n",
            "Epoch 24/50\n",
            " - 0s - loss: 84.9756\n",
            "Epoch 25/50\n",
            " - 0s - loss: 85.7359\n",
            "Epoch 26/50\n",
            " - 0s - loss: 85.0374\n",
            "Epoch 27/50\n",
            " - 0s - loss: 84.0055\n",
            "Epoch 28/50\n",
            " - 0s - loss: 84.0424\n",
            "Epoch 29/50\n",
            " - 0s - loss: 83.0825\n",
            "Epoch 30/50\n",
            " - 0s - loss: 84.7951\n",
            "Epoch 31/50\n",
            " - 0s - loss: 83.9313\n",
            "Epoch 32/50\n",
            " - 0s - loss: 83.1229\n",
            "Epoch 33/50\n",
            " - 0s - loss: 80.9424\n",
            "Epoch 34/50\n",
            " - 0s - loss: 82.4642\n",
            "Epoch 35/50\n",
            " - 0s - loss: 81.9180\n",
            "Epoch 36/50\n",
            " - 0s - loss: 81.5066\n",
            "Epoch 37/50\n",
            " - 0s - loss: 80.2581\n",
            "Epoch 38/50\n",
            " - 0s - loss: 81.6587\n",
            "Epoch 39/50\n",
            " - 0s - loss: 81.8882\n",
            "Epoch 40/50\n",
            " - 0s - loss: 79.3923\n",
            "Epoch 41/50\n",
            " - 0s - loss: 80.7228\n",
            "Epoch 42/50\n",
            " - 0s - loss: 80.1344\n",
            "Epoch 43/50\n",
            " - 0s - loss: 79.3048\n",
            "Epoch 44/50\n",
            " - 0s - loss: 78.3980\n",
            "Epoch 45/50\n",
            " - 0s - loss: 78.5046\n",
            "Epoch 46/50\n",
            " - 0s - loss: 78.1874\n",
            "Epoch 47/50\n",
            " - 0s - loss: 77.5096\n",
            "Epoch 48/50\n",
            " - 0s - loss: 79.5266\n",
            "Epoch 49/50\n",
            " - 0s - loss: 78.1266\n",
            "Epoch 50/50\n",
            " - 0s - loss: 78.9018\n"
          ],
          "name": "stdout"
        },
        {
          "output_type": "execute_result",
          "data": {
            "text/plain": [
              "<keras.callbacks.History at 0x7f3f55942dd8>"
            ]
          },
          "metadata": {
            "tags": []
          },
          "execution_count": 37
        }
      ]
    },
    {
      "cell_type": "code",
      "metadata": {
        "id": "9sPB9ZQCVnnM",
        "colab_type": "code",
        "colab": {
          "base_uri": "https://localhost:8080/",
          "height": 52
        },
        "outputId": "c6a53f41-cea6-40e6-bc0e-15814978a3a8"
      },
      "source": [
        "loss_val = model.evaluate(X_test, y_test)\n",
        "y_pred = model.predict(X_test)\n",
        "loss_val"
      ],
      "execution_count": 40,
      "outputs": [
        {
          "output_type": "stream",
          "text": [
            "309/309 [==============================] - 0s 183us/step\n"
          ],
          "name": "stdout"
        },
        {
          "output_type": "execute_result",
          "data": {
            "text/plain": [
              "68.83232456812195"
            ]
          },
          "metadata": {
            "tags": []
          },
          "execution_count": 40
        }
      ]
    },
    {
      "cell_type": "code",
      "metadata": {
        "id": "JAXYOFeAGE50",
        "colab_type": "code",
        "colab": {}
      },
      "source": [
        "from sklearn.metrics import mean_squared_error"
      ],
      "execution_count": 0,
      "outputs": []
    },
    {
      "cell_type": "code",
      "metadata": {
        "id": "MIQg_G3hS4pP",
        "colab_type": "code",
        "colab": {
          "base_uri": "https://localhost:8080/",
          "height": 35
        },
        "outputId": "6114e506-d58b-47a8-84ec-618588d36e35"
      },
      "source": [
        "mean_square_error = mean_squared_error(y_test, y_pred)\n",
        "mean = np.mean(mean_square_error)\n",
        "standard_deviation = np.std(mean_square_error)\n",
        "print(mean, standard_deviation)"
      ],
      "execution_count": 41,
      "outputs": [
        {
          "output_type": "stream",
          "text": [
            "68.83230885189136 0.0\n"
          ],
          "name": "stdout"
        }
      ]
    },
    {
      "cell_type": "code",
      "metadata": {
        "id": "Vbr47QAIV59e",
        "colab_type": "code",
        "colab": {
          "base_uri": "https://localhost:8080/",
          "height": 988
        },
        "outputId": "02c1db57-3810-4751-f8fd-6bee0e2f9bd2"
      },
      "source": [
        "total_mean_squared_errors = 50\n",
        "epochs = 50\n",
        "mean_squared_errors = []\n",
        "for i in range(0, total_mean_squared_errors):\n",
        "    X_train, X_test, y_train, y_test = train_test_split(predictors, target, test_size=0.3, random_state=i)\n",
        "    model.fit(X_train, y_train, epochs=epochs, verbose=0)\n",
        "    MSE = model.evaluate(X_test, y_test, verbose=0)\n",
        "    print(\"MSE \"+str(i+1)+\": \"+str(MSE))\n",
        "    y_pred = model.predict(X_test)\n",
        "    mean_square_error = mean_squared_error(y_test, y_pred)\n",
        "    mean_squared_errors.append(mean_square_error)\n",
        "\n",
        "mean_squared_errors = np.array(mean_squared_errors)\n",
        "mean = np.mean(mean_squared_errors)\n",
        "standard_deviation = np.std(mean_squared_errors)\n",
        "\n",
        "print('\\n')\n",
        "print(\"The mean and standard deviation of \" +str(total_mean_squared_errors) + \" mean squared errors without normalized data. Total number of epochs for each training is: \" +str(epochs) + \"\\n\")\n",
        "print(\"Mean: \"+str(mean))\n",
        "print(\"Standard Deviation: \"+str(standard_deviation))"
      ],
      "execution_count": 53,
      "outputs": [
        {
          "output_type": "stream",
          "text": [
            "MSE 1: 121.43323324259045\n",
            "MSE 2: 125.98502860948878\n",
            "MSE 3: 108.49003435647218\n",
            "MSE 4: 122.1613242387\n",
            "MSE 5: 128.99156791415416\n",
            "MSE 6: 114.88805589398135\n",
            "MSE 7: 133.67700037292678\n",
            "MSE 8: 111.53696429305091\n",
            "MSE 9: 119.7209675612959\n",
            "MSE 10: 110.46636483893039\n",
            "MSE 11: 106.2248464541142\n",
            "MSE 12: 102.7374469423757\n",
            "MSE 13: 122.09114810486828\n",
            "MSE 14: 126.5531769786452\n",
            "MSE 15: 120.22369927958763\n",
            "MSE 16: 106.0911969922507\n",
            "MSE 17: 115.64568062198973\n",
            "MSE 18: 95.41838288538665\n",
            "MSE 19: 102.01243556741758\n",
            "MSE 20: 137.67284494541997\n",
            "MSE 21: 96.83801037439636\n",
            "MSE 22: 103.02096073681483\n",
            "MSE 23: 107.65140447030176\n",
            "MSE 24: 113.47274711139765\n",
            "MSE 25: 109.10924873228598\n",
            "MSE 26: 99.55340655181786\n",
            "MSE 27: 120.13640893238647\n",
            "MSE 28: 109.62818074149222\n",
            "MSE 29: 109.73864610295466\n",
            "MSE 30: 113.6255733897385\n",
            "MSE 31: 134.54515041116758\n",
            "MSE 32: 109.03935045408971\n",
            "MSE 33: 108.7211844435016\n",
            "MSE 34: 115.34181781262642\n",
            "MSE 35: 113.87342752993686\n",
            "MSE 36: 128.93515335626202\n",
            "MSE 37: 119.3651342052472\n",
            "MSE 38: 124.53257810722278\n",
            "MSE 39: 108.11760938823416\n",
            "MSE 40: 119.78719774264734\n",
            "MSE 41: 125.43396834339525\n",
            "MSE 42: 111.50925675179194\n",
            "MSE 43: 109.6573072513716\n",
            "MSE 44: 107.33270461196652\n",
            "MSE 45: 115.56302842816103\n",
            "MSE 46: 115.11653339669928\n",
            "MSE 47: 112.01190849723939\n",
            "MSE 48: 125.09154236432418\n",
            "MSE 49: 102.45118249195679\n",
            "MSE 50: 109.62537314899531\n",
            "\n",
            "\n",
            "The mean and standard deviation of 50 mean squared errors without normalized data. Total number of epochs for each training is: 50\n",
            "\n",
            "Mean: 114.61694712322704\n",
            "Standard Deviation: 9.652559492674216\n"
          ],
          "name": "stdout"
        }
      ]
    },
    {
      "cell_type": "markdown",
      "metadata": {
        "id": "jLT9m8DIXCRl",
        "colab_type": "text"
      },
      "source": [
        "Building the Regression model after normalizing the data"
      ]
    },
    {
      "cell_type": "code",
      "metadata": {
        "id": "Z38mlIItXJ5K",
        "colab_type": "code",
        "colab": {
          "base_uri": "https://localhost:8080/",
          "height": 202
        },
        "outputId": "15490ff4-8046-42bd-9d3d-51b0c49b4cb3"
      },
      "source": [
        "predictors_norm = (predictors - predictors.mean()) / predictors.std()\n",
        "predictors_norm.head()"
      ],
      "execution_count": 43,
      "outputs": [
        {
          "output_type": "execute_result",
          "data": {
            "text/html": [
              "<div>\n",
              "<style scoped>\n",
              "    .dataframe tbody tr th:only-of-type {\n",
              "        vertical-align: middle;\n",
              "    }\n",
              "\n",
              "    .dataframe tbody tr th {\n",
              "        vertical-align: top;\n",
              "    }\n",
              "\n",
              "    .dataframe thead th {\n",
              "        text-align: right;\n",
              "    }\n",
              "</style>\n",
              "<table border=\"1\" class=\"dataframe\">\n",
              "  <thead>\n",
              "    <tr style=\"text-align: right;\">\n",
              "      <th></th>\n",
              "      <th>Cement</th>\n",
              "      <th>Blast Furnace Slag</th>\n",
              "      <th>Fly Ash</th>\n",
              "      <th>Water</th>\n",
              "      <th>Superplasticizer</th>\n",
              "      <th>Coarse Aggregate</th>\n",
              "      <th>Fine Aggregate</th>\n",
              "      <th>Age</th>\n",
              "    </tr>\n",
              "  </thead>\n",
              "  <tbody>\n",
              "    <tr>\n",
              "      <th>0</th>\n",
              "      <td>2.476712</td>\n",
              "      <td>-0.856472</td>\n",
              "      <td>-0.846733</td>\n",
              "      <td>-0.916319</td>\n",
              "      <td>-0.620147</td>\n",
              "      <td>0.862735</td>\n",
              "      <td>-1.217079</td>\n",
              "      <td>-0.279597</td>\n",
              "    </tr>\n",
              "    <tr>\n",
              "      <th>1</th>\n",
              "      <td>2.476712</td>\n",
              "      <td>-0.856472</td>\n",
              "      <td>-0.846733</td>\n",
              "      <td>-0.916319</td>\n",
              "      <td>-0.620147</td>\n",
              "      <td>1.055651</td>\n",
              "      <td>-1.217079</td>\n",
              "      <td>-0.279597</td>\n",
              "    </tr>\n",
              "    <tr>\n",
              "      <th>2</th>\n",
              "      <td>0.491187</td>\n",
              "      <td>0.795140</td>\n",
              "      <td>-0.846733</td>\n",
              "      <td>2.174405</td>\n",
              "      <td>-1.038638</td>\n",
              "      <td>-0.526262</td>\n",
              "      <td>-2.239829</td>\n",
              "      <td>3.551340</td>\n",
              "    </tr>\n",
              "    <tr>\n",
              "      <th>3</th>\n",
              "      <td>0.491187</td>\n",
              "      <td>0.795140</td>\n",
              "      <td>-0.846733</td>\n",
              "      <td>2.174405</td>\n",
              "      <td>-1.038638</td>\n",
              "      <td>-0.526262</td>\n",
              "      <td>-2.239829</td>\n",
              "      <td>5.055221</td>\n",
              "    </tr>\n",
              "    <tr>\n",
              "      <th>4</th>\n",
              "      <td>-0.790075</td>\n",
              "      <td>0.678079</td>\n",
              "      <td>-0.846733</td>\n",
              "      <td>0.488555</td>\n",
              "      <td>-1.038638</td>\n",
              "      <td>0.070492</td>\n",
              "      <td>0.647569</td>\n",
              "      <td>4.976069</td>\n",
              "    </tr>\n",
              "  </tbody>\n",
              "</table>\n",
              "</div>"
            ],
            "text/plain": [
              "     Cement  Blast Furnace Slag  ...  Fine Aggregate       Age\n",
              "0  2.476712           -0.856472  ...       -1.217079 -0.279597\n",
              "1  2.476712           -0.856472  ...       -1.217079 -0.279597\n",
              "2  0.491187            0.795140  ...       -2.239829  3.551340\n",
              "3  0.491187            0.795140  ...       -2.239829  5.055221\n",
              "4 -0.790075            0.678079  ...        0.647569  4.976069\n",
              "\n",
              "[5 rows x 8 columns]"
            ]
          },
          "metadata": {
            "tags": []
          },
          "execution_count": 43
        }
      ]
    },
    {
      "cell_type": "code",
      "metadata": {
        "id": "WIzafXAYXbNT",
        "colab_type": "code",
        "colab": {}
      },
      "source": [
        "n_cols = predictors_norm.shape[1] # number of predictors"
      ],
      "execution_count": 0,
      "outputs": []
    },
    {
      "cell_type": "code",
      "metadata": {
        "id": "hiUpuzu1XrTQ",
        "colab_type": "code",
        "colab": {}
      },
      "source": [
        "# define regression model\n",
        "def regression_model():\n",
        "    # create model\n",
        "    model = Sequential()\n",
        "    model.add(Dense(10, activation='relu', input_shape=(n_cols,)))\n",
        "    model.add(Dense(1))\n",
        "    \n",
        "    # compile model\n",
        "    model.compile(optimizer='adam', loss='mean_squared_error')\n",
        "    return model"
      ],
      "execution_count": 0,
      "outputs": []
    },
    {
      "cell_type": "code",
      "metadata": {
        "id": "dRxg-iOvXzBb",
        "colab_type": "code",
        "colab": {}
      },
      "source": [
        "X_train, X_test, y_train, y_test = train_test_split(predictors_norm, target, test_size=0.3, random_state=50)"
      ],
      "execution_count": 0,
      "outputs": []
    },
    {
      "cell_type": "code",
      "metadata": {
        "id": "qPcJfATUYbwn",
        "colab_type": "code",
        "colab": {}
      },
      "source": [
        "# build the model\n",
        "model = regression_model()"
      ],
      "execution_count": 0,
      "outputs": []
    },
    {
      "cell_type": "code",
      "metadata": {
        "id": "LxhzuBYeYdzJ",
        "colab_type": "code",
        "colab": {
          "base_uri": "https://localhost:8080/",
          "height": 1000
        },
        "outputId": "eed6c697-4824-419b-96f5-577e4933bc73"
      },
      "source": [
        "# fit the model\n",
        "model.fit(X_train, y_train, epochs=50, verbose=2)"
      ],
      "execution_count": 48,
      "outputs": [
        {
          "output_type": "stream",
          "text": [
            "Epoch 1/50\n",
            " - 0s - loss: 1612.1412\n",
            "Epoch 2/50\n",
            " - 0s - loss: 1592.6192\n",
            "Epoch 3/50\n",
            " - 0s - loss: 1573.0013\n",
            "Epoch 4/50\n",
            " - 0s - loss: 1553.7229\n",
            "Epoch 5/50\n",
            " - 0s - loss: 1533.9986\n",
            "Epoch 6/50\n",
            " - 0s - loss: 1514.4235\n",
            "Epoch 7/50\n",
            " - 0s - loss: 1493.9547\n",
            "Epoch 8/50\n",
            " - 0s - loss: 1473.6174\n",
            "Epoch 9/50\n",
            " - 0s - loss: 1452.8788\n",
            "Epoch 10/50\n",
            " - 0s - loss: 1431.6321\n",
            "Epoch 11/50\n",
            " - 0s - loss: 1410.1653\n",
            "Epoch 12/50\n",
            " - 0s - loss: 1388.2046\n",
            "Epoch 13/50\n",
            " - 0s - loss: 1365.6689\n",
            "Epoch 14/50\n",
            " - 0s - loss: 1343.0277\n",
            "Epoch 15/50\n",
            " - 0s - loss: 1319.8531\n",
            "Epoch 16/50\n",
            " - 0s - loss: 1295.8838\n",
            "Epoch 17/50\n",
            " - 0s - loss: 1271.9099\n",
            "Epoch 18/50\n",
            " - 0s - loss: 1247.1781\n",
            "Epoch 19/50\n",
            " - 0s - loss: 1222.3711\n",
            "Epoch 20/50\n",
            " - 0s - loss: 1196.9587\n",
            "Epoch 21/50\n",
            " - 0s - loss: 1171.1736\n",
            "Epoch 22/50\n",
            " - 0s - loss: 1144.8882\n",
            "Epoch 23/50\n",
            " - 0s - loss: 1118.7425\n",
            "Epoch 24/50\n",
            " - 0s - loss: 1091.8502\n",
            "Epoch 25/50\n",
            " - 0s - loss: 1064.7763\n",
            "Epoch 26/50\n",
            " - 0s - loss: 1036.8692\n",
            "Epoch 27/50\n",
            " - 0s - loss: 1008.8274\n",
            "Epoch 28/50\n",
            " - 0s - loss: 980.5233\n",
            "Epoch 29/50\n",
            " - 0s - loss: 951.8460\n",
            "Epoch 30/50\n",
            " - 0s - loss: 922.7754\n",
            "Epoch 31/50\n",
            " - 0s - loss: 893.8758\n",
            "Epoch 32/50\n",
            " - 0s - loss: 864.6046\n",
            "Epoch 33/50\n",
            " - 0s - loss: 835.5335\n",
            "Epoch 34/50\n",
            " - 0s - loss: 806.9325\n",
            "Epoch 35/50\n",
            " - 0s - loss: 777.6490\n",
            "Epoch 36/50\n",
            " - 0s - loss: 749.0360\n",
            "Epoch 37/50\n",
            " - 0s - loss: 720.7807\n",
            "Epoch 38/50\n",
            " - 0s - loss: 693.0961\n",
            "Epoch 39/50\n",
            " - 0s - loss: 665.9574\n",
            "Epoch 40/50\n",
            " - 0s - loss: 639.6638\n",
            "Epoch 41/50\n",
            " - 0s - loss: 613.8200\n",
            "Epoch 42/50\n",
            " - 0s - loss: 588.8383\n",
            "Epoch 43/50\n",
            " - 0s - loss: 564.6020\n",
            "Epoch 44/50\n",
            " - 0s - loss: 541.0709\n",
            "Epoch 45/50\n",
            " - 0s - loss: 518.4999\n",
            "Epoch 46/50\n",
            " - 0s - loss: 496.9386\n",
            "Epoch 47/50\n",
            " - 0s - loss: 475.9545\n",
            "Epoch 48/50\n",
            " - 0s - loss: 456.3044\n",
            "Epoch 49/50\n",
            " - 0s - loss: 437.4846\n",
            "Epoch 50/50\n",
            " - 0s - loss: 419.5108\n"
          ],
          "name": "stdout"
        },
        {
          "output_type": "execute_result",
          "data": {
            "text/plain": [
              "<keras.callbacks.History at 0x7f3f55843fd0>"
            ]
          },
          "metadata": {
            "tags": []
          },
          "execution_count": 48
        }
      ]
    },
    {
      "cell_type": "code",
      "metadata": {
        "id": "e8sJWAoqYl2i",
        "colab_type": "code",
        "colab": {
          "base_uri": "https://localhost:8080/",
          "height": 52
        },
        "outputId": "a966c63f-4fa1-46a1-eb81-33c116c7f1cb"
      },
      "source": [
        "loss_val = model.evaluate(X_test, y_test)\n",
        "y_pred = model.predict(X_test)\n",
        "loss_val"
      ],
      "execution_count": 49,
      "outputs": [
        {
          "output_type": "stream",
          "text": [
            "309/309 [==============================] - 0s 237us/step\n"
          ],
          "name": "stdout"
        },
        {
          "output_type": "execute_result",
          "data": {
            "text/plain": [
              "415.24904239987865"
            ]
          },
          "metadata": {
            "tags": []
          },
          "execution_count": 49
        }
      ]
    },
    {
      "cell_type": "code",
      "metadata": {
        "id": "PjKxpRimY-Ck",
        "colab_type": "code",
        "colab": {
          "base_uri": "https://localhost:8080/",
          "height": 35
        },
        "outputId": "a7ee39f8-3e2a-4f7c-f811-34694eee822e"
      },
      "source": [
        "mean_square_error = mean_squared_error(y_test, y_pred)\n",
        "mean = np.mean(mean_square_error)\n",
        "standard_deviation = np.std(mean_square_error)\n",
        "print(mean, standard_deviation)"
      ],
      "execution_count": 50,
      "outputs": [
        {
          "output_type": "stream",
          "text": [
            "415.2490327323405 0.0\n"
          ],
          "name": "stdout"
        }
      ]
    },
    {
      "cell_type": "code",
      "metadata": {
        "id": "xcjVZo2YZGTL",
        "colab_type": "code",
        "colab": {
          "base_uri": "https://localhost:8080/",
          "height": 988
        },
        "outputId": "e4718f14-1538-4743-be36-11becd2c974e"
      },
      "source": [
        "total_mean_squared_errors = 50\n",
        "epochs = 50\n",
        "mean_squared_errors = []\n",
        "for i in range(0, total_mean_squared_errors):\n",
        "    X_train, X_test, y_train, y_test = train_test_split(predictors_norm, target, test_size=0.3, random_state=i)\n",
        "    model.fit(X_train, y_train, epochs=epochs, verbose=0)\n",
        "    MSE = model.evaluate(X_test, y_test, verbose=0)\n",
        "    print(\"MSE \"+str(i+1)+\": \"+str(MSE))\n",
        "    y_pred = model.predict(X_test)\n",
        "    mean_square_error = mean_squared_error(y_test, y_pred)\n",
        "    mean_squared_errors.append(mean_square_error)\n",
        "\n",
        "mean_squared_errors = np.array(mean_squared_errors)\n",
        "mean = np.mean(mean_squared_errors)\n",
        "standard_deviation = np.std(mean_squared_errors)\n",
        "\n",
        "print('\\n')\n",
        "print(\"The mean and standard deviation of \" +str(total_mean_squared_errors) + \" mean squared errors with normalized data. Total number of epochs for each training is: \" +str(epochs) + \"\\n\")\n",
        "print(\"Mean: \"+str(mean))\n",
        "print(\"Standard Deviation: \"+str(standard_deviation))"
      ],
      "execution_count": 62,
      "outputs": [
        {
          "output_type": "stream",
          "text": [
            "MSE 1: 29.815468390011095\n",
            "MSE 2: 32.30326516111306\n",
            "MSE 3: 27.198698006787346\n",
            "MSE 4: 28.756561791626766\n",
            "MSE 5: 28.788457605059477\n",
            "MSE 6: 31.065459347079873\n",
            "MSE 7: 32.5699252279831\n",
            "MSE 8: 27.208365307656692\n",
            "MSE 9: 26.54239079250101\n",
            "MSE 10: 25.788700190176854\n",
            "MSE 11: 27.91947303697901\n",
            "MSE 12: 25.90780011272739\n",
            "MSE 13: 30.47969720433059\n",
            "MSE 14: 32.68658732442022\n",
            "MSE 15: 27.855955253527004\n",
            "MSE 16: 23.204137147823197\n",
            "MSE 17: 31.761770279276334\n",
            "MSE 18: 29.42549879574081\n",
            "MSE 19: 25.566907104936618\n",
            "MSE 20: 29.421157256685028\n",
            "MSE 21: 25.69325196472958\n",
            "MSE 22: 26.055733381351608\n",
            "MSE 23: 22.333469082236675\n",
            "MSE 24: 26.599733420560273\n",
            "MSE 25: 28.944660205285526\n",
            "MSE 26: 31.015688207928804\n",
            "MSE 27: 25.337462082649896\n",
            "MSE 28: 29.47295006810654\n",
            "MSE 29: 32.347600967752896\n",
            "MSE 30: 31.407273968446603\n",
            "MSE 31: 27.765325861069762\n",
            "MSE 32: 27.742371784444767\n",
            "MSE 33: 25.690979837213906\n",
            "MSE 34: 30.862842547469153\n",
            "MSE 35: 30.753989358550136\n",
            "MSE 36: 34.62705156641099\n",
            "MSE 37: 25.117914773885484\n",
            "MSE 38: 30.198748097836393\n",
            "MSE 39: 28.97320247390895\n",
            "MSE 40: 24.217185788941613\n",
            "MSE 41: 32.40681601959525\n",
            "MSE 42: 25.730537747873843\n",
            "MSE 43: 28.89454619398395\n",
            "MSE 44: 32.29112296737128\n",
            "MSE 45: 33.161227142926556\n",
            "MSE 46: 31.420056735041843\n",
            "MSE 47: 30.315673531837835\n",
            "MSE 48: 28.795206798318905\n",
            "MSE 49: 31.217366450041244\n",
            "MSE 50: 30.765511040548677\n",
            "\n",
            "\n",
            "The mean and standard deviation of 50 mean squared errors with normalized data. Total number of epochs for each training is: 50\n",
            "\n",
            "Mean: 28.88843567114632\n",
            "Standard Deviation: 2.808337268670093\n"
          ],
          "name": "stdout"
        }
      ]
    },
    {
      "cell_type": "markdown",
      "metadata": {
        "id": "x_f5XRGOtlyO",
        "colab_type": "text"
      },
      "source": [
        "Building the regression model for 100 epochs"
      ]
    },
    {
      "cell_type": "code",
      "metadata": {
        "id": "ScZrXpmbqBdS",
        "colab_type": "code",
        "colab": {
          "base_uri": "https://localhost:8080/",
          "height": 1000
        },
        "outputId": "7da6bf3a-56ca-4c63-8f59-d7c092988c68"
      },
      "source": [
        "# fit the model\n",
        "model.fit(X_train, y_train, epochs=100, verbose=2)"
      ],
      "execution_count": 55,
      "outputs": [
        {
          "output_type": "stream",
          "text": [
            "Epoch 1/100\n",
            " - 0s - loss: 110.7092\n",
            "Epoch 2/100\n",
            " - 0s - loss: 108.1158\n",
            "Epoch 3/100\n",
            " - 0s - loss: 111.6648\n",
            "Epoch 4/100\n",
            " - 0s - loss: 113.3355\n",
            "Epoch 5/100\n",
            " - 0s - loss: 110.4007\n",
            "Epoch 6/100\n",
            " - 0s - loss: 109.3680\n",
            "Epoch 7/100\n",
            " - 0s - loss: 109.7805\n",
            "Epoch 8/100\n",
            " - 0s - loss: 110.6089\n",
            "Epoch 9/100\n",
            " - 0s - loss: 111.8075\n",
            "Epoch 10/100\n",
            " - 0s - loss: 108.3212\n",
            "Epoch 11/100\n",
            " - 0s - loss: 109.2942\n",
            "Epoch 12/100\n",
            " - 0s - loss: 111.3627\n",
            "Epoch 13/100\n",
            " - 0s - loss: 110.0460\n",
            "Epoch 14/100\n",
            " - 0s - loss: 109.3859\n",
            "Epoch 15/100\n",
            " - 0s - loss: 110.3112\n",
            "Epoch 16/100\n",
            " - 0s - loss: 112.1492\n",
            "Epoch 17/100\n",
            " - 0s - loss: 111.5367\n",
            "Epoch 18/100\n",
            " - 0s - loss: 112.3629\n",
            "Epoch 19/100\n",
            " - 0s - loss: 109.5410\n",
            "Epoch 20/100\n",
            " - 0s - loss: 107.8958\n",
            "Epoch 21/100\n",
            " - 0s - loss: 109.1371\n",
            "Epoch 22/100\n",
            " - 0s - loss: 107.2021\n",
            "Epoch 23/100\n",
            " - 0s - loss: 110.3646\n",
            "Epoch 24/100\n",
            " - 0s - loss: 108.0347\n",
            "Epoch 25/100\n",
            " - 0s - loss: 108.4428\n",
            "Epoch 26/100\n",
            " - 0s - loss: 109.2312\n",
            "Epoch 27/100\n",
            " - 0s - loss: 112.3473\n",
            "Epoch 28/100\n",
            " - 0s - loss: 110.8765\n",
            "Epoch 29/100\n",
            " - 0s - loss: 108.5508\n",
            "Epoch 30/100\n",
            " - 0s - loss: 107.7853\n",
            "Epoch 31/100\n",
            " - 0s - loss: 109.5947\n",
            "Epoch 32/100\n",
            " - 0s - loss: 110.2520\n",
            "Epoch 33/100\n",
            " - 0s - loss: 109.6793\n",
            "Epoch 34/100\n",
            " - 0s - loss: 108.9110\n",
            "Epoch 35/100\n",
            " - 0s - loss: 109.3116\n",
            "Epoch 36/100\n",
            " - 0s - loss: 111.9394\n",
            "Epoch 37/100\n",
            " - 0s - loss: 111.0641\n",
            "Epoch 38/100\n",
            " - 0s - loss: 109.6040\n",
            "Epoch 39/100\n",
            " - 0s - loss: 110.1084\n",
            "Epoch 40/100\n",
            " - 0s - loss: 112.6103\n",
            "Epoch 41/100\n",
            " - 0s - loss: 109.0240\n",
            "Epoch 42/100\n",
            " - 0s - loss: 108.3438\n",
            "Epoch 43/100\n",
            " - 0s - loss: 111.3117\n",
            "Epoch 44/100\n",
            " - 0s - loss: 107.6860\n",
            "Epoch 45/100\n",
            " - 0s - loss: 108.1630\n",
            "Epoch 46/100\n",
            " - 0s - loss: 108.4795\n",
            "Epoch 47/100\n",
            " - 0s - loss: 110.0424\n",
            "Epoch 48/100\n",
            " - 0s - loss: 111.1466\n",
            "Epoch 49/100\n",
            " - 0s - loss: 108.0124\n",
            "Epoch 50/100\n",
            " - 0s - loss: 116.5014\n",
            "Epoch 51/100\n",
            " - 0s - loss: 108.8843\n",
            "Epoch 52/100\n",
            " - 0s - loss: 108.6410\n",
            "Epoch 53/100\n",
            " - 0s - loss: 114.9184\n",
            "Epoch 54/100\n",
            " - 0s - loss: 110.6017\n",
            "Epoch 55/100\n",
            " - 0s - loss: 108.4815\n",
            "Epoch 56/100\n",
            " - 0s - loss: 107.9879\n",
            "Epoch 57/100\n",
            " - 0s - loss: 108.1074\n",
            "Epoch 58/100\n",
            " - 0s - loss: 108.7050\n",
            "Epoch 59/100\n",
            " - 0s - loss: 110.2151\n",
            "Epoch 60/100\n",
            " - 0s - loss: 111.5479\n",
            "Epoch 61/100\n",
            " - 0s - loss: 109.3695\n",
            "Epoch 62/100\n",
            " - 0s - loss: 109.6987\n",
            "Epoch 63/100\n",
            " - 0s - loss: 110.9220\n",
            "Epoch 64/100\n",
            " - 0s - loss: 108.2518\n",
            "Epoch 65/100\n",
            " - 0s - loss: 109.8876\n",
            "Epoch 66/100\n",
            " - 0s - loss: 110.9639\n",
            "Epoch 67/100\n",
            " - 0s - loss: 108.4555\n",
            "Epoch 68/100\n",
            " - 0s - loss: 109.3132\n",
            "Epoch 69/100\n",
            " - 0s - loss: 111.9842\n",
            "Epoch 70/100\n",
            " - 0s - loss: 113.9594\n",
            "Epoch 71/100\n",
            " - 0s - loss: 108.8450\n",
            "Epoch 72/100\n",
            " - 0s - loss: 108.3248\n",
            "Epoch 73/100\n",
            " - 0s - loss: 108.2226\n",
            "Epoch 74/100\n",
            " - 0s - loss: 108.5279\n",
            "Epoch 75/100\n",
            " - 0s - loss: 111.1634\n",
            "Epoch 76/100\n",
            " - 0s - loss: 109.7766\n",
            "Epoch 77/100\n",
            " - 0s - loss: 109.1297\n",
            "Epoch 78/100\n",
            " - 0s - loss: 112.2348\n",
            "Epoch 79/100\n",
            " - 0s - loss: 108.7259\n",
            "Epoch 80/100\n",
            " - 0s - loss: 114.3271\n",
            "Epoch 81/100\n",
            " - 0s - loss: 111.4356\n",
            "Epoch 82/100\n",
            " - 0s - loss: 108.3330\n",
            "Epoch 83/100\n",
            " - 0s - loss: 108.7275\n",
            "Epoch 84/100\n",
            " - 0s - loss: 108.0195\n",
            "Epoch 85/100\n",
            " - 0s - loss: 109.6670\n",
            "Epoch 86/100\n",
            " - 0s - loss: 107.9830\n",
            "Epoch 87/100\n",
            " - 0s - loss: 109.4364\n",
            "Epoch 88/100\n",
            " - 0s - loss: 108.9446\n",
            "Epoch 89/100\n",
            " - 0s - loss: 108.0499\n",
            "Epoch 90/100\n",
            " - 0s - loss: 109.1271\n",
            "Epoch 91/100\n",
            " - 0s - loss: 109.6536\n",
            "Epoch 92/100\n",
            " - 0s - loss: 111.1908\n",
            "Epoch 93/100\n",
            " - 0s - loss: 110.5154\n",
            "Epoch 94/100\n",
            " - 0s - loss: 110.1928\n",
            "Epoch 95/100\n",
            " - 0s - loss: 112.7740\n",
            "Epoch 96/100\n",
            " - 0s - loss: 115.4961\n",
            "Epoch 97/100\n",
            " - 0s - loss: 109.4044\n",
            "Epoch 98/100\n",
            " - 0s - loss: 109.3673\n",
            "Epoch 99/100\n",
            " - 0s - loss: 108.0418\n",
            "Epoch 100/100\n",
            " - 0s - loss: 112.5759\n"
          ],
          "name": "stdout"
        },
        {
          "output_type": "execute_result",
          "data": {
            "text/plain": [
              "<keras.callbacks.History at 0x7f3f5e6929e8>"
            ]
          },
          "metadata": {
            "tags": []
          },
          "execution_count": 55
        }
      ]
    },
    {
      "cell_type": "code",
      "metadata": {
        "id": "hM46HUhxqfQG",
        "colab_type": "code",
        "colab": {
          "base_uri": "https://localhost:8080/",
          "height": 52
        },
        "outputId": "1e14e798-7413-4adb-e4b2-7957833fd55f"
      },
      "source": [
        "loss_val = model.evaluate(X_test, y_test)\n",
        "y_pred = model.predict(X_test)\n",
        "loss_val"
      ],
      "execution_count": 56,
      "outputs": [
        {
          "output_type": "stream",
          "text": [
            "309/309 [==============================] - 0s 42us/step\n"
          ],
          "name": "stdout"
        },
        {
          "output_type": "execute_result",
          "data": {
            "text/plain": [
              "111.1146433808657"
            ]
          },
          "metadata": {
            "tags": []
          },
          "execution_count": 56
        }
      ]
    },
    {
      "cell_type": "code",
      "metadata": {
        "id": "2Kumo58mqfkj",
        "colab_type": "code",
        "colab": {
          "base_uri": "https://localhost:8080/",
          "height": 35
        },
        "outputId": "d59c7392-b5be-46d1-c306-6d4e1697c497"
      },
      "source": [
        "mean_square_error = mean_squared_error(y_test, y_pred)\n",
        "mean = np.mean(mean_square_error)\n",
        "standard_deviation = np.std(mean_square_error)\n",
        "print(mean, standard_deviation)"
      ],
      "execution_count": 58,
      "outputs": [
        {
          "output_type": "stream",
          "text": [
            "111.11463957735994 0.0\n"
          ],
          "name": "stdout"
        }
      ]
    },
    {
      "cell_type": "code",
      "metadata": {
        "id": "dXhIeit7q9-1",
        "colab_type": "code",
        "colab": {
          "base_uri": "https://localhost:8080/",
          "height": 1000
        },
        "outputId": "10490ecd-1370-4ade-b2d5-81fdc68c6238"
      },
      "source": [
        "total_mean_squared_errors = 100\n",
        "epochs = 100\n",
        "mean_squared_errors = []\n",
        "for i in range(0, total_mean_squared_errors):\n",
        "    X_train, X_test, y_train, y_test = train_test_split(predictors_norm, target, test_size=0.3, random_state=i)\n",
        "    model.fit(X_train, y_train, epochs=epochs, verbose=0)\n",
        "    MSE = model.evaluate(X_test, y_test, verbose=0)\n",
        "    print(\"MSE \"+str(i+1)+\": \"+str(MSE))\n",
        "    y_pred = model.predict(X_test)\n",
        "    mean_square_error = mean_squared_error(y_test, y_pred)\n",
        "    mean_squared_errors.append(mean_square_error)\n",
        "\n",
        "mean_squared_errors = np.array(mean_squared_errors)\n",
        "mean = np.mean(mean_squared_errors)\n",
        "standard_deviation = np.std(mean_squared_errors)\n",
        "\n",
        "print('\\n')\n",
        "print(\"The mean and standard deviation of \" +str(total_mean_squared_errors) + \" mean squared errors with normalized data. Total number of epochs for each training is: \" +str(epochs) + \"\\n\")\n",
        "print(\"Mean: \"+str(mean))\n",
        "print(\"Standard Deviation: \"+str(standard_deviation))"
      ],
      "execution_count": 60,
      "outputs": [
        {
          "output_type": "stream",
          "text": [
            "MSE 1: 35.22321002305904\n",
            "MSE 2: 36.3320466013788\n",
            "MSE 3: 29.678967719710762\n",
            "MSE 4: 35.09889637227969\n",
            "MSE 5: 32.92433418347998\n",
            "MSE 6: 35.5810406015143\n",
            "MSE 7: 38.03861295829699\n",
            "MSE 8: 30.04869376494275\n",
            "MSE 9: 32.07011307404651\n",
            "MSE 10: 29.84126327415886\n",
            "MSE 11: 33.91164066722092\n",
            "MSE 12: 30.524408525633582\n",
            "MSE 13: 37.17141735360846\n",
            "MSE 14: 37.25996163130578\n",
            "MSE 15: 31.150511238567265\n",
            "MSE 16: 27.843720544117556\n",
            "MSE 17: 35.15839579807516\n",
            "MSE 18: 33.295754534526935\n",
            "MSE 19: 30.439382670380922\n",
            "MSE 20: 32.38250351569413\n",
            "MSE 21: 29.48962391232981\n",
            "MSE 22: 28.96445990380346\n",
            "MSE 23: 27.725475379178437\n",
            "MSE 24: 29.471580295501017\n",
            "MSE 25: 33.04478580511889\n",
            "MSE 26: 33.51415989699873\n",
            "MSE 27: 30.93830674057254\n",
            "MSE 28: 31.665188909734336\n",
            "MSE 29: 36.04322756918503\n",
            "MSE 30: 33.87136980322187\n",
            "MSE 31: 31.647444234311003\n",
            "MSE 32: 31.018880967569196\n",
            "MSE 33: 28.183113777135954\n",
            "MSE 34: 33.68215395486085\n",
            "MSE 35: 34.79842396461462\n",
            "MSE 36: 36.64025264727645\n",
            "MSE 37: 29.892236012085355\n",
            "MSE 38: 33.8984919427668\n",
            "MSE 39: 30.908528016223105\n",
            "MSE 40: 27.679325295111894\n",
            "MSE 41: 34.969511593815575\n",
            "MSE 42: 29.065273044178788\n",
            "MSE 43: 31.63603798085432\n",
            "MSE 44: 35.36147537972163\n",
            "MSE 45: 35.04017934212793\n",
            "MSE 46: 33.696652594507704\n",
            "MSE 47: 33.375376173593466\n",
            "MSE 48: 32.122348581702965\n",
            "MSE 49: 33.888748489923074\n",
            "MSE 50: 32.88108919507863\n",
            "MSE 51: 31.16922784700363\n",
            "MSE 52: 30.442298697808027\n",
            "MSE 53: 30.55995400438031\n",
            "MSE 54: 30.316680537844167\n",
            "MSE 55: 35.145323021897994\n",
            "MSE 56: 28.77111367654646\n",
            "MSE 57: 26.72932393342546\n",
            "MSE 58: 32.82420813304321\n",
            "MSE 59: 32.88098208726802\n",
            "MSE 60: 31.991881423011954\n",
            "MSE 61: 35.606432868439015\n",
            "MSE 62: 27.866124847560254\n",
            "MSE 63: 29.805948029058264\n",
            "MSE 64: 28.143645795803625\n",
            "MSE 65: 31.658268789643223\n",
            "MSE 66: 30.17790861654436\n",
            "MSE 67: 29.50724219658614\n",
            "MSE 68: 30.709896692566115\n",
            "MSE 69: 28.249170753948125\n",
            "MSE 70: 31.366356692267853\n",
            "MSE 71: 28.283902615791\n",
            "MSE 72: 27.861541680147734\n",
            "MSE 73: 28.394888905645573\n",
            "MSE 74: 29.52591086205541\n",
            "MSE 75: 31.552720532833952\n",
            "MSE 76: 28.180315986806136\n",
            "MSE 77: 26.266414136176742\n",
            "MSE 78: 27.47112185901037\n",
            "MSE 79: 36.011565106586346\n",
            "MSE 80: 30.03289827019651\n",
            "MSE 81: 26.11511879214191\n",
            "MSE 82: 32.37154888412327\n",
            "MSE 83: 30.957426546460987\n",
            "MSE 84: 30.361927510851025\n",
            "MSE 85: 25.602224103069613\n",
            "MSE 86: 28.315653828741276\n",
            "MSE 87: 30.32960389887245\n",
            "MSE 88: 24.223220368419266\n",
            "MSE 89: 25.887280121590326\n",
            "MSE 90: 27.455588340759277\n",
            "MSE 91: 32.87132108867361\n",
            "MSE 92: 23.199455066792016\n",
            "MSE 93: 31.36624686231891\n",
            "MSE 94: 26.649411062592442\n",
            "MSE 95: 32.13796437828286\n",
            "MSE 96: 29.640239981000093\n",
            "MSE 97: 33.977125309817616\n",
            "MSE 98: 27.31660613272954\n",
            "MSE 99: 32.41749425844853\n",
            "MSE 100: 31.447262748545427\n",
            "\n",
            "\n",
            "The mean and standard deviation of 100 mean squared errors with normalized data. Total number of epochs for each training is: 100\n",
            "\n",
            "Mean: 31.192345853262328\n",
            "Standard Deviation: 3.069961118041064\n"
          ],
          "name": "stdout"
        }
      ]
    }
  ]
}